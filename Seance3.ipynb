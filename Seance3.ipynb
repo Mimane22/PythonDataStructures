{
 "cells": [
  {
   "cell_type": "code",
   "execution_count": 3,
   "id": "30925953",
   "metadata": {},
   "outputs": [
    {
     "name": "stdout",
     "output_type": "stream",
     "text": [
      "120\n"
     ]
    }
   ],
   "source": [
    "liste = [1,2,3,4,5]\n",
    "produit = 1\n",
    "for i in range(len(liste)):\n",
    "    produit = produit * liste[i]\n",
    "print(produit)"
   ]
  },
  {
   "cell_type": "code",
   "execution_count": 5,
   "id": "65d7c373",
   "metadata": {},
   "outputs": [
    {
     "name": "stdout",
     "output_type": "stream",
     "text": [
      "120\n"
     ]
    }
   ],
   "source": [
    "liste = [1,2,3,4,5]\n",
    "produit = 1\n",
    "for i in liste:\n",
    "    produit = produit * i\n",
    "print(produit)"
   ]
  },
  {
   "cell_type": "code",
   "execution_count": 10,
   "id": "fd94322f",
   "metadata": {},
   "outputs": [
    {
     "name": "stdout",
     "output_type": "stream",
     "text": [
      "[(2, 5), (1, 2), (4, 4), (2, 3), (2, 1)]\n"
     ]
    }
   ],
   "source": [
    "A =  [(2, 5), (1, 2), (4, 4), (2, 3), (2, 1)]\n",
    "print(A)"
   ]
  },
  {
   "cell_type": "code",
   "execution_count": 38,
   "id": "f6a0bb4c",
   "metadata": {},
   "outputs": [
    {
     "name": "stdout",
     "output_type": "stream",
     "text": [
      "[(1, 2), (2, 1), (2, 3), (2, 5), (4, 4)]\n"
     ]
    }
   ],
   "source": [
    "#A.sort()\n",
    "#A.sort(reverse = True) l'inverse \n",
    "A.sort(key = lambda x:x[0])\n",
    "print(A)"
   ]
  },
  {
   "cell_type": "code",
   "execution_count": 30,
   "id": "370e08f6",
   "metadata": {},
   "outputs": [
    {
     "name": "stdout",
     "output_type": "stream",
     "text": [
      "{'a': 300, 'b': 200, 'd': 400, 'c': 300}\n"
     ]
    }
   ],
   "source": [
    "d1 = {'a': 100, 'b': 200, 'c':300}\n",
    "d2 = {'a': 300, 'b': 200, 'd':400}\n",
    "d3 = {}\n",
    "for key1 in d1.keys():\n",
    "    for key2 in d2.keys():\n",
    "        if key1 == key2 :\n",
    "            d3[key1] = d1[key1] + d2[key2]\n",
    "        else :\n",
    "            d3[key1] = d1[key1]\n",
    "            d3[key2] = d2[key2]\n",
    "print(d3)"
   ]
  },
  {
   "cell_type": "code",
   "execution_count": 32,
   "id": "453e98e8",
   "metadata": {},
   "outputs": [
    {
     "name": "stdout",
     "output_type": "stream",
     "text": [
      "{1: 1, 2: 4, 3: 9, 4: 16, 5: 25, 6: 36, 7: 49, 8: 64}\n"
     ]
    }
   ],
   "source": [
    "n = 8\n",
    "B = {i : i*i for i in range(1,n+1)}\n",
    "print(B)"
   ]
  },
  {
   "cell_type": "code",
   "execution_count": 36,
   "id": "eb4995d4",
   "metadata": {},
   "outputs": [
    {
     "name": "stdout",
     "output_type": "stream",
     "text": [
      "[('item3', '24.5'), ('item2', '15.10'), ('item1', '12.20')]\n"
     ]
    }
   ],
   "source": [
    "C = [ ('item2', '15.10'),('item1', '12.20'), ('item3', '24.5')]\n",
    "C.sort(key = lambda x:x[1], reverse = True)\n",
    "print(C)"
   ]
  },
  {
   "cell_type": "code",
   "execution_count": null,
   "id": "b37ba351",
   "metadata": {},
   "outputs": [],
   "source": []
  }
 ],
 "metadata": {
  "kernelspec": {
   "display_name": "Python 3 (ipykernel)",
   "language": "python",
   "name": "python3"
  },
  "language_info": {
   "codemirror_mode": {
    "name": "ipython",
    "version": 3
   },
   "file_extension": ".py",
   "mimetype": "text/x-python",
   "name": "python",
   "nbconvert_exporter": "python",
   "pygments_lexer": "ipython3",
   "version": "3.9.7"
  }
 },
 "nbformat": 4,
 "nbformat_minor": 5
}
